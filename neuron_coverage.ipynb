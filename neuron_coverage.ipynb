{
  "nbformat": 4,
  "nbformat_minor": 0,
  "metadata": {
    "colab": {
      "name": "neuron_coverage.ipynb",
      "provenance": [],
      "collapsed_sections": [
        "GOcH73LJ-Ca9",
        "MhYxElk3dQYt",
        "m2IaBmxRB34A"
      ],
      "mount_file_id": "1Wr1l3lgXEEW7M6smLGNKBHjWLVzalcQ_",
      "authorship_tag": "ABX9TyNNsV8qALpBNq7nm88gng2t",
      "include_colab_link": true
    },
    "kernelspec": {
      "display_name": "Python 3",
      "name": "python3"
    },
    "language_info": {
      "name": "python"
    }
  },
  "cells": [
    {
      "cell_type": "markdown",
      "metadata": {
        "id": "view-in-github",
        "colab_type": "text"
      },
      "source": [
        "<a href=\"https://colab.research.google.com/github/snsk/ai_testing_metamorphic/blob/main/neuron_coverage.ipynb\" target=\"_parent\"><img src=\"https://colab.research.google.com/assets/colab-badge.svg\" alt=\"Open In Colab\"/></a>"
      ]
    },
    {
      "cell_type": "markdown",
      "metadata": {
        "id": "CYNavZXj4sdx"
      },
      "source": [
        "# ニューロンカバレッジ\n",
        "\n",
        "* ニューロンカバレッジでは多層モデルのうち、中間層に着目する\n",
        "  * 入力層と出力層は見ない\n",
        "\n"
      ]
    },
    {
      "cell_type": "markdown",
      "metadata": {
        "id": "YjEMSfl-6vK_"
      },
      "source": [
        "# 画像変形した1枚を判定する際のニューロンカバレッジを取る\n"
      ]
    },
    {
      "cell_type": "markdown",
      "metadata": {
        "id": "bXAyissY4p6I"
      },
      "source": [
        ""
      ]
    },
    {
      "cell_type": "code",
      "metadata": {
        "colab": {
          "base_uri": "https://localhost:8080/",
          "height": 873
        },
        "id": "GtzlmVc960kM",
        "outputId": "a7b79a74-8418-4960-f4bb-76a37a1a92c1"
      },
      "source": [
        "import numpy as np\n",
        "import matplotlib.pyplot as plt\n",
        "from keras.preprocessing import image\n",
        "from keras.models import load_model\n",
        "from keras.preprocessing.image import img_to_array, load_img\n",
        "import pprint\n",
        "from keras import backend as K\n",
        "\n",
        "colab_root = '/content/drive/MyDrive/colab_root/'\n",
        "\n",
        "# 画像を読み込む。\n",
        "img = image.load_img(colab_root+'hiyashi_3.jpg',  target_size=(100,100))\n",
        "img = np.array(img)\n",
        "\n",
        "#plt.imshow(img)\n",
        "#plt.show()\n",
        "\n",
        "# flow に渡すために配列を四次元化\n",
        "img = img[None, ...]\n",
        "\n",
        "# 画像変形のジェネレータを作成\n",
        "datagen = image.ImageDataGenerator(rotation_range=0)\n",
        "gen = datagen.flow(img, batch_size = 1)\n",
        "\n",
        "# バッチの実行\n",
        "batches = next(gen)\n",
        "g_img = batches[0]/255\n",
        "g_img = g_img[None, ...]\n",
        "\n",
        "# modelの読み込み\n",
        "model = load_model(colab_root + 'ramen_hiyashi_acc0.9675.h5')\n",
        "model.summary()\n",
        "# 正解ラベルの定義\n",
        "label=['ramen', 'hiyashi']\n",
        "\n",
        "# 判別\n",
        "pred = model.predict(g_img, batch_size=1, verbose=0)\n",
        "score = np.max(pred)\n",
        "pred_label = label[np.argmax(pred[0])]\n",
        "print('name:',pred_label)\n",
        "print('score:',score)\n",
        "\n",
        "# output\n",
        "# with a Sequential model\n",
        "get_3rd_layer_output = K.function([model.layers[0].input],\n",
        "                                  [model.layers[7].output])\n",
        "layer_output = get_3rd_layer_output(g_img)[0]\n",
        "#print(layer_output)\n",
        "plt.matshow(layer_output[0, :, :, 4], cmap='viridis')\n",
        "plt.show()\n"
      ],
      "execution_count": 64,
      "outputs": [
        {
          "output_type": "stream",
          "name": "stdout",
          "text": [
            "Model: \"sequential_7\"\n",
            "_________________________________________________________________\n",
            "Layer (type)                 Output Shape              Param #   \n",
            "=================================================================\n",
            "conv2d_28 (Conv2D)           (None, 100, 100, 32)      896       \n",
            "_________________________________________________________________\n",
            "conv2d_29 (Conv2D)           (None, 98, 98, 32)        9248      \n",
            "_________________________________________________________________\n",
            "max_pooling2d_14 (MaxPooling (None, 49, 49, 32)        0         \n",
            "_________________________________________________________________\n",
            "dropout_21 (Dropout)         (None, 49, 49, 32)        0         \n",
            "_________________________________________________________________\n",
            "conv2d_30 (Conv2D)           (None, 49, 49, 64)        18496     \n",
            "_________________________________________________________________\n",
            "conv2d_31 (Conv2D)           (None, 47, 47, 64)        36928     \n",
            "_________________________________________________________________\n",
            "max_pooling2d_15 (MaxPooling (None, 23, 23, 64)        0         \n",
            "_________________________________________________________________\n",
            "dropout_22 (Dropout)         (None, 23, 23, 64)        0         \n",
            "_________________________________________________________________\n",
            "flatten_7 (Flatten)          (None, 33856)             0         \n",
            "_________________________________________________________________\n",
            "dense_14 (Dense)             (None, 512)               17334784  \n",
            "_________________________________________________________________\n",
            "dropout_23 (Dropout)         (None, 512)               0         \n",
            "_________________________________________________________________\n",
            "dense_15 (Dense)             (None, 2)                 1026      \n",
            "=================================================================\n",
            "Total params: 17,401,378\n",
            "Trainable params: 17,401,378\n",
            "Non-trainable params: 0\n",
            "_________________________________________________________________\n",
            "name: hiyashi\n",
            "score: 0.9987631\n"
          ]
        },
        {
          "output_type": "display_data",
          "data": {
            "image/png": "[encoded data removed]",
            "text/plain": [
              "<Figure size 288x288 with 1 Axes>"
            ]
          },
          "metadata": {
            "needs_background": "light"
          }
        }
      ]
    },
    {
      "cell_type": "markdown",
      "metadata": {
        "id": "GOcH73LJ-Ca9"
      },
      "source": [
        "#2種類の画像を識別するモデル"
      ]
    },
    {
      "cell_type": "code",
      "metadata": {
        "colab": {
          "background_save": true
        },
        "id": "JZOAZidS6GVy",
        "outputId": "4d4a0034-9bab-454f-b446-3014e742166b"
      },
      "source": [
        "import keras\n",
        "from keras.utils.vis_utils import plot_model\n",
        "from keras.utils import np_utils\n",
        "from keras.models import Sequential\n",
        "from keras.layers import Dense, Dropout, Activation\n",
        "import keras.optimizers\n",
        "from keras.models import Sequential\n",
        "from keras.layers.convolutional import Conv2D, MaxPooling2D\n",
        "from keras.layers.core import Dense, Dropout, Activation, Flatten\n",
        "import numpy as np\n",
        "from sklearn.model_selection import train_test_split\n",
        "from PIL import Image\n",
        "import glob\n",
        "\n",
        "folder = [\"ramen\",\"hiyashi\"]\n",
        "image_size = 100\n",
        "X = []\n",
        "Y = []\n",
        "for index, name in enumerate(folder):\n",
        "    dir = \"/content/drive/MyDrive/colab_root/\" + name\n",
        "    files = glob.glob(dir + \"/*.jpg\")\n",
        "    for i, file in enumerate(files):\n",
        "        image = Image.open(file)\n",
        "        image = image.convert(\"RGB\")\n",
        "        image = image.resize((image_size, image_size))\n",
        "        data = np.asarray(image)\n",
        "        X.append(data)\n",
        "        Y.append(index)\n",
        "\n",
        "X = np.array(X)\n",
        "Y = np.array(Y)\n",
        "\n",
        "X = X.astype('float32')\n",
        "X = X / 255.0\n",
        "\n",
        "# 正解ラベルの形式を変換\n",
        "Y = np_utils.to_categorical(Y, 2)\n",
        "\n",
        "# 学習用データとテストデータ\n",
        "X_train, X_test, Y_train, Y_test = train_test_split(X, Y, test_size=0.20)\n",
        "'''\n",
        "X_train:訓練用入力データ\n",
        "X_test :訓練用正解データ\n",
        "Y_train:評価用入力データ\n",
        "Y_test :評価用正解データ\n",
        "'''\n",
        "\n",
        "# CNNを構築\n",
        "# Sequentialモデルは addされたモデル層が一列に並ぶ\n",
        "model = Sequential()\n",
        "\n",
        "#Conv2D:2次元畳み込み層 3x3のパネルを32枚使う。padding='same' で出力画像のサイズが変わらないようにする\n",
        "model.add(Conv2D(32, (3, 3), padding='same',input_shape=X_train.shape[1:], activation='relu'))\n",
        "model.add(Conv2D(32, (3, 3), activation='relu'))\n",
        "model.add(MaxPooling2D(pool_size=(2, 2)))\n",
        "model.add(Dropout(0.5))\n",
        "\n",
        "model.add(Conv2D(64, (3, 3), padding='same', activation='relu'))\n",
        "model.add(Conv2D(64, (3, 3), activation='relu'))\n",
        "model.add(MaxPooling2D(pool_size=(2, 2)))\n",
        "model.add(Dropout(0.5))\n",
        "\n",
        "model.add(Flatten())\n",
        "model.add(Dense(512, activation='relu'))\n",
        "model.add(Dropout(0.5))\n",
        "model.add(Dense(2, activation='softmax'))\n",
        "\n",
        "#モデルのコンパイル\n",
        "model.compile(\n",
        "    loss='categorical_crossentropy',\n",
        "    optimizer='sgd',\n",
        "    metrics=['accuracy']\n",
        ")\n",
        "\n",
        "#モデルの訓練\n",
        "epochs_num=40\n",
        "result = model.fit(X_train, Y_train, epochs=epochs_num, validation_data=(X_test, Y_test))\n",
        "\n",
        "#modelのビジュアル可視化。要install and PATH setting GraphViz, pydot\n",
        "#functional API を利用した複雑なモデルの時はこちら\n",
        "plot_model(model, to_file='./model.png', show_shapes=True, expand_nested=True)\n",
        "#modelのテキスト可視化。Sequentialモデルならこれでも十分、らしい\n",
        "#print(model.summary())\n",
        "\n",
        "#model.save('ramen_hiyashi.h5')\n",
        "\n",
        "import matplotlib.pyplot as plt\n",
        " \n",
        "plt.plot(range(1, epochs_num+1), result.history['accuracy'], label=\"training\")\n",
        "plt.plot(range(1, epochs_num+1), result.history['val_accuracy'], label=\"validation\")\n",
        "plt.xlabel('Epochs')\n",
        "plt.ylabel('Accuracy')\n",
        "plt.legend()\n",
        "plt.show()\n",
        "\n",
        "#評価 & 評価結果出力\n",
        "print(model.evaluate(X_test, Y_test))\n",
        "print('Test:')\n",
        "test_loss, test_acc = model.evaluate(X_test, Y_test, verbose=1)\n",
        "print('\\nTest accuracy:', test_acc)"
      ],
      "execution_count": null,
      "outputs": [
        {
          "output_type": "stream",
          "text": [
            "Epoch 1/40\n",
            "51/51 [==============================] - 78s 2s/step - loss: 0.6873 - accuracy: 0.5484 - val_loss: 0.7167 - val_accuracy: 0.5137\n",
            "Epoch 2/40\n",
            "51/51 [==============================] - 78s 2s/step - loss: 0.6686 - accuracy: 0.5840 - val_loss: 0.6736 - val_accuracy: 0.5187\n",
            "Epoch 3/40\n",
            "51/51 [==============================] - 78s 2s/step - loss: 0.6552 - accuracy: 0.6371 - val_loss: 0.6865 - val_accuracy: 0.5237\n",
            "Epoch 4/40\n",
            "51/51 [==============================] - 78s 2s/step - loss: 0.6356 - accuracy: 0.6433 - val_loss: 0.6323 - val_accuracy: 0.6409\n",
            "Epoch 5/40\n",
            "51/51 [==============================] - 78s 2s/step - loss: 0.6223 - accuracy: 0.6502 - val_loss: 0.6524 - val_accuracy: 0.5885\n",
            "Epoch 6/40\n",
            "51/51 [==============================] - 78s 2s/step - loss: 0.6203 - accuracy: 0.6433 - val_loss: 0.7125 - val_accuracy: 0.5137\n",
            "Epoch 7/40\n",
            "51/51 [==============================] - 78s 2s/step - loss: 0.6343 - accuracy: 0.6384 - val_loss: 0.6470 - val_accuracy: 0.6110\n",
            "Epoch 8/40\n",
            "51/51 [==============================] - 78s 2s/step - loss: 0.6181 - accuracy: 0.6683 - val_loss: 0.6695 - val_accuracy: 0.6110\n",
            "Epoch 9/40\n",
            "51/51 [==============================] - 77s 2s/step - loss: 0.6176 - accuracy: 0.6633 - val_loss: 0.6415 - val_accuracy: 0.6434\n",
            "Epoch 10/40\n",
            "51/51 [==============================] - 78s 2s/step - loss: 0.6031 - accuracy: 0.6633 - val_loss: 0.6034 - val_accuracy: 0.6858\n",
            "Epoch 11/40\n",
            "51/51 [==============================] - 78s 2s/step - loss: 0.5991 - accuracy: 0.6740 - val_loss: 0.5959 - val_accuracy: 0.6958\n",
            "Epoch 12/40\n",
            "51/51 [==============================] - 78s 2s/step - loss: 0.5983 - accuracy: 0.6814 - val_loss: 0.6154 - val_accuracy: 0.6658\n",
            "Epoch 13/40\n",
            "51/51 [==============================] - 78s 2s/step - loss: 0.5860 - accuracy: 0.6858 - val_loss: 0.6007 - val_accuracy: 0.6983\n",
            "Epoch 14/40\n",
            "51/51 [==============================] - 77s 2s/step - loss: 0.5756 - accuracy: 0.6958 - val_loss: 0.5839 - val_accuracy: 0.6758\n",
            "Epoch 15/40\n",
            "51/51 [==============================] - 77s 2s/step - loss: 0.5716 - accuracy: 0.7027 - val_loss: 0.6106 - val_accuracy: 0.6534\n",
            "Epoch 16/40\n",
            "51/51 [==============================] - 79s 2s/step - loss: 0.5583 - accuracy: 0.7096 - val_loss: 0.7498 - val_accuracy: 0.5212\n",
            "Epoch 17/40\n",
            "51/51 [==============================] - 80s 2s/step - loss: 0.5491 - accuracy: 0.7202 - val_loss: 0.8751 - val_accuracy: 0.5137\n",
            "Epoch 18/40\n",
            "51/51 [==============================] - 81s 2s/step - loss: 0.5384 - accuracy: 0.7139 - val_loss: 1.4266 - val_accuracy: 0.5062\n",
            "Epoch 19/40\n",
            "51/51 [==============================] - 80s 2s/step - loss: 0.5898 - accuracy: 0.7064 - val_loss: 0.5557 - val_accuracy: 0.7132\n",
            "Epoch 20/40\n",
            "51/51 [==============================] - 80s 2s/step - loss: 0.5191 - accuracy: 0.7502 - val_loss: 0.5639 - val_accuracy: 0.6958\n",
            "Epoch 21/40\n",
            "51/51 [==============================] - 81s 2s/step - loss: 0.4979 - accuracy: 0.7527 - val_loss: 0.6770 - val_accuracy: 0.5835\n",
            "Epoch 22/40\n",
            "51/51 [==============================] - 78s 2s/step - loss: 0.4687 - accuracy: 0.7783 - val_loss: 1.2655 - val_accuracy: 0.5137\n",
            "Epoch 23/40\n",
            "51/51 [==============================] - 77s 2s/step - loss: 0.5537 - accuracy: 0.7171 - val_loss: 0.6219 - val_accuracy: 0.6534\n",
            "Epoch 24/40\n",
            "51/51 [==============================] - 77s 2s/step - loss: 0.4612 - accuracy: 0.7814 - val_loss: 0.5669 - val_accuracy: 0.6933\n",
            "Epoch 25/40\n",
            "51/51 [==============================] - 77s 2s/step - loss: 0.4161 - accuracy: 0.8082 - val_loss: 0.4997 - val_accuracy: 0.7581\n",
            "Epoch 26/40\n",
            "51/51 [==============================] - 77s 2s/step - loss: 0.4547 - accuracy: 0.7833 - val_loss: 0.7432 - val_accuracy: 0.5636\n",
            "Epoch 27/40\n",
            "51/51 [==============================] - 78s 2s/step - loss: 0.4077 - accuracy: 0.8207 - val_loss: 0.7699 - val_accuracy: 0.6534\n",
            "Epoch 28/40\n",
            "51/51 [==============================] - 78s 2s/step - loss: 0.3861 - accuracy: 0.8301 - val_loss: 0.6748 - val_accuracy: 0.6983\n",
            "Epoch 29/40\n",
            "51/51 [==============================] - 77s 2s/step - loss: 0.3850 - accuracy: 0.8314 - val_loss: 0.4612 - val_accuracy: 0.7681\n",
            "Epoch 30/40\n",
            "51/51 [==============================] - 77s 2s/step - loss: 0.3953 - accuracy: 0.8182 - val_loss: 0.8188 - val_accuracy: 0.6110\n",
            "Epoch 31/40\n",
            "51/51 [==============================] - 77s 2s/step - loss: 0.3162 - accuracy: 0.8663 - val_loss: 0.5537 - val_accuracy: 0.7556\n",
            "Epoch 32/40\n",
            "51/51 [==============================] - 77s 2s/step - loss: 0.3207 - accuracy: 0.8620 - val_loss: 0.3627 - val_accuracy: 0.8304\n",
            "Epoch 33/40\n",
            "51/51 [==============================] - 77s 2s/step - loss: 0.2700 - accuracy: 0.8851 - val_loss: 0.3464 - val_accuracy: 0.8529\n",
            "Epoch 34/40\n",
            "51/51 [==============================] - 77s 2s/step - loss: 0.2835 - accuracy: 0.8720 - val_loss: 0.3074 - val_accuracy: 0.8554\n",
            "Epoch 35/40\n",
            "51/51 [==============================] - 77s 2s/step - loss: 0.2581 - accuracy: 0.8888 - val_loss: 0.2880 - val_accuracy: 0.8778\n",
            "Epoch 36/40\n",
            "51/51 [==============================] - 77s 2s/step - loss: 0.2417 - accuracy: 0.9057 - val_loss: 1.2891 - val_accuracy: 0.6434\n",
            "Epoch 37/40\n",
            "51/51 [==============================] - 77s 2s/step - loss: 0.4800 - accuracy: 0.7939 - val_loss: 0.4038 - val_accuracy: 0.7980\n",
            "Epoch 38/40\n",
            "51/51 [==============================] - 77s 2s/step - loss: 0.2375 - accuracy: 0.9144 - val_loss: 0.3130 - val_accuracy: 0.8504\n",
            "Epoch 39/40\n",
            "51/51 [==============================] - 77s 2s/step - loss: 0.2003 - accuracy: 0.9232 - val_loss: 0.6048 - val_accuracy: 0.7132\n",
            "Epoch 40/40\n",
            "51/51 [==============================] - 77s 2s/step - loss: 0.2332 - accuracy: 0.9119 - val_loss: 0.5248 - val_accuracy: 0.8080\n"
          ],
          "name": "stdout"
        },
        {
          "output_type": "display_data",
          "data": {
            "image/png": "[encoded data removed]",
            "text/plain": [
              "<Figure size 432x288 with 1 Axes>"
            ]
          },
          "metadata": {
            "tags": []
          }
        },
        {
          "output_type": "stream",
          "text": [
            "13/13 [==============================] - 4s 330ms/step - loss: 0.5248 - accuracy: 0.8080\n",
            "[0.5248034596443176, 0.8079800605773926]\n",
            "Test:\n",
            "13/13 [==============================] - 4s 328ms/step - loss: 0.5248 - accuracy: 0.8080\n",
            "\n",
            "Test accuracy: 0.8079800605773926\n"
          ],
          "name": "stdout"
        }
      ]
    },
    {
      "cell_type": "markdown",
      "metadata": {
        "id": "MhYxElk3dQYt"
      },
      "source": [
        "# 構築済みのモデルを使う\n",
        "\n"
      ]
    },
    {
      "cell_type": "code",
      "metadata": {
        "colab": {
          "base_uri": "https://localhost:8080/"
        },
        "id": "suH0mx8pdPsM",
        "outputId": "67e3d788-72ad-4db3-97f1-b799068fb2e4"
      },
      "source": [
        "from keras.models import load_model\n",
        "import numpy as np\n",
        "from keras.preprocessing.image import img_to_array, load_img\n",
        "\n",
        "colab_root = '/content/drive/MyDrive/colab_root/'\n",
        "\n",
        "# modelと画像ファイルの読み込み\n",
        "model = load_model(colab_root + 'ramen_hiyashi_acc0.9675.h5')\n",
        "\n",
        "# 画像ファイルの行列変換\n",
        "img = img_to_array(load_img(colab_root + 'ramen_2.jpg', target_size=(100,100)))\n",
        "img_nad = img_to_array(img)/255\n",
        "img_nad = img_nad[None, ...]\n",
        "\n",
        "# 正解ラベルの定義\n",
        "label=['ramen', 'hiyashi']\n",
        "\n",
        "# 判別\n",
        "pred = model.predict(img_nad, batch_size=1, verbose=0)\n",
        "print(pred)\n",
        "score = np.max(pred)\n",
        "pred_label = label[np.argmax(pred[0])]\n",
        "print('name:',pred_label)\n",
        "print('score:',score)"
      ],
      "execution_count": 2,
      "outputs": [
        {
          "output_type": "stream",
          "name": "stdout",
          "text": [
            "[[0.7606613  0.23933864]]\n",
            "name: ramen\n",
            "score: 0.7606613\n"
          ]
        }
      ]
    },
    {
      "cell_type": "markdown",
      "metadata": {
        "id": "m2IaBmxRB34A"
      },
      "source": [
        "# colab sandbox"
      ]
    },
    {
      "cell_type": "code",
      "metadata": {
        "colab": {
          "base_uri": "https://localhost:8080/"
        },
        "id": "ytiPvLKWB9jK",
        "outputId": "ebce55b2-dab4-42c5-c561-f974796aa60a"
      },
      "source": [
        "!python -V"
      ],
      "execution_count": null,
      "outputs": [
        {
          "output_type": "stream",
          "text": [
            "Python 3.7.11\n"
          ],
          "name": "stdout"
        }
      ]
    }
  ]
}